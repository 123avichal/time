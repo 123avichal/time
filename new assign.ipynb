{
 "cells": [
  {
   "cell_type": "markdown",
   "id": "d981be39-93a5-41ff-aeee-b0e2e528d448",
   "metadata": {},
   "source": [
    "Problem 1 :\n",
    "def quicksort(arr):\n",
    "if len(arr) <= 1:\n",
    "return arr\n",
    "pivot = arr[len(arr) // 2]\n",
    "left = [x for x in arr if x < pivot]\n",
    "middle = [x for x in arr if x == pivot]\n",
    "right = [x for x in arr if x > pivot]\n",
    "return quicksort(left) + middle + quicksort(right)"
   ]
  },
  {
   "cell_type": "markdown",
   "id": "84f8ef78-69da-40a5-96b0-00e38014ba20",
   "metadata": {},
   "source": [
    "time complexity(nlogn)"
   ]
  },
  {
   "cell_type": "markdown",
   "id": "9c72b4ae-2189-421b-8d73-a23c741ecd60",
   "metadata": {},
   "source": [
    "Problem 2 :\n",
    "def nested_loop_example(matrix):\n",
    "rows, cols = len(matrix), len(matrix[0])\n",
    "total = 0\n",
    "for i in range(rows):\n",
    "for j in range(cols):\n",
    "total += matrix[i][j]\n",
    "return total"
   ]
  },
  {
   "cell_type": "markdown",
   "id": "64829ac6-8e55-4bb9-ac10-c60d811999dc",
   "metadata": {},
   "source": [
    "time complexity o(n^2)"
   ]
  },
  {
   "cell_type": "markdown",
   "id": "ce8d633e-4aac-4530-a4d3-97484028d1af",
   "metadata": {},
   "source": [
    "def example_function(arr):\n",
    "result = 0\n",
    "for element in arr:\n",
    "result += element\n",
    "return result"
   ]
  },
  {
   "cell_type": "code",
   "execution_count": null,
   "id": "85925dee-c1f0-45ea-894b-c6462cb3c312",
   "metadata": {},
   "outputs": [],
   "source": [
    "time complexity(o(n))"
   ]
  },
  {
   "cell_type": "markdown",
   "id": "4e030481-9fde-4ab6-8ff8-b212867aff58",
   "metadata": {},
   "source": [
    "def longest_increasing_subsequence(nums):\n",
    "n = len(nums)\n",
    "lis = [1] * n\n",
    "for i in range(1, n):\n",
    "for j in range(0, i):\n",
    "if nums[i] > nums[j] and lis[i] < lis[j] + 1:\n",
    "lis[i] = lis[j] + 1\n",
    "return max(lis)"
   ]
  },
  {
   "cell_type": "markdown",
   "id": "1845d1fd-b6cc-48ec-832e-8a938ed39b7e",
   "metadata": {},
   "source": [
    "time complexity(o(n^c))"
   ]
  },
  {
   "cell_type": "markdown",
   "id": "ef1c17cb-bf18-4f15-ac6d-fb0a014eaa63",
   "metadata": {},
   "source": [
    "Problem 5 :\n",
    "def mysterious_function(arr):\n",
    "n = len(arr)\n",
    "result = 0\n",
    "for i in range(n):\n",
    "for j in range(i, n):\n",
    "result += arr[i] * arr[j]\n",
    "return result"
   ]
  },
  {
   "cell_type": "markdown",
   "id": "69fa4d09-a223-4965-954a-7b0bc60b918c",
   "metadata": {},
   "source": [
    "time complexity(o(n^c))"
   ]
  },
  {
   "cell_type": "markdown",
   "id": "fa4a1c32-e911-4f74-b3dd-8c41e9021a95",
   "metadata": {},
   "source": [
    "Problem 6 : Sum of Digits\n",
    "Write a recursive function to calculate the sum of digits of a given positive integer.\n",
    "sum_of_digits(123) -> 6"
   ]
  },
  {
   "cell_type": "code",
   "execution_count": 7,
   "id": "91830fa0-80e6-4ce0-86a2-f9d087794771",
   "metadata": {},
   "outputs": [],
   "source": [
    "def sum_(n):\n",
    "    if n<=10:\n",
    "        return n\n",
    "    else:\n",
    "        return n%10 + sum_(n//10)"
   ]
  },
  {
   "cell_type": "code",
   "execution_count": 8,
   "id": "a34cf005-0ec2-4105-ad2f-851e165ad42f",
   "metadata": {},
   "outputs": [
    {
     "data": {
      "text/plain": [
       "6"
      ]
     },
     "execution_count": 8,
     "metadata": {},
     "output_type": "execute_result"
    }
   ],
   "source": [
    "sum_(123)"
   ]
  },
  {
   "cell_type": "markdown",
   "id": "0a6ad168-0b4b-4624-bc0a-6e7614ae219f",
   "metadata": {},
   "source": [
    "Problem 7: Fibonacci Series\n",
    "Write a recursive function to generate the first n numbers of the Fibonacci series.\n",
    "fibonacci_series(6) -> [0, 1, 1, 2, 3, 5]"
   ]
  },
  {
   "cell_type": "code",
   "execution_count": 21,
   "id": "7af74964-0963-44fb-8ee3-bd55c58bd97a",
   "metadata": {},
   "outputs": [],
   "source": [
    "def fib(num):\n",
    "    if num<=2:\n",
    "        return 1\n",
    "    else:\n",
    "        return fib(num-1) + fib(num-2)"
   ]
  },
  {
   "cell_type": "code",
   "execution_count": 22,
   "id": "a4fc6793-6c17-4f82-9865-401c7b5c82d8",
   "metadata": {},
   "outputs": [
    {
     "data": {
      "text/plain": [
       "8"
      ]
     },
     "execution_count": 22,
     "metadata": {},
     "output_type": "execute_result"
    }
   ],
   "source": [
    "fib(6)"
   ]
  },
  {
   "cell_type": "markdown",
   "id": "7519d145-bb2a-46f6-abd8-0a992ff0b30c",
   "metadata": {},
   "source": [
    "Problem 8 : Subset Sum\n",
    "Given a set of positive integers and a target sum, write a recursive function to determine if there exists a subset\n",
    "of the integers that adds up to the target sum.\n",
    "subset_sum([3, 34, 4, 12, 5, 2], 9) -> True"
   ]
  },
  {
   "cell_type": "code",
   "execution_count": 27,
   "id": "3a105740-7f85-49d8-a00a-45f2fc653270",
   "metadata": {},
   "outputs": [],
   "source": [
    "l=[3, 34, 4, 12, 5, 2]"
   ]
  },
  {
   "cell_type": "code",
   "execution_count": 32,
   "id": "7d6e14b8-7782-40cb-872e-b87007790c79",
   "metadata": {},
   "outputs": [],
   "source": [
    "a=set(l)"
   ]
  },
  {
   "cell_type": "code",
   "execution_count": 35,
   "id": "be93022c-9a03-4c74-8b8c-319559a2f1bf",
   "metadata": {},
   "outputs": [
    {
     "data": {
      "text/plain": [
       "True"
      ]
     },
     "execution_count": 35,
     "metadata": {},
     "output_type": "execute_result"
    }
   ],
   "source": [
    "a.issubset(a)"
   ]
  },
  {
   "cell_type": "markdown",
   "id": "f92a2a8d-1f1b-44a2-8013-ea92ec9b82a7",
   "metadata": {},
   "source": [
    "Problem 9: Word Break\n",
    "Given a non-empty string and a dictionary of words, write a recursive function to determine if the string can be\n",
    "segmented into a space-separated sequence of dictionary words.\n",
    "word_break( leetcode , [ leet , code ]) -> True"
   ]
  },
  {
   "cell_type": "code",
   "execution_count": 38,
   "id": "a0f1d010-62ab-49ab-bea4-eee63883d97e",
   "metadata": {},
   "outputs": [],
   "source": [
    "def wordBreak(wordList, word):\n",
    "\tif word == '':\n",
    "\t\treturn True\n",
    "\telse:\n",
    "\t\twordLen = len(word)\n",
    "\t\treturn any([(word[:i] in wordList) and wordBreak(wordList, word[i:]) for i in range(1, wordLen+1)])\n"
   ]
  },
  {
   "cell_type": "code",
   "execution_count": 47,
   "id": "80cb3012-abe2-40cc-960e-3c8e13c6b4e8",
   "metadata": {},
   "outputs": [
    {
     "data": {
      "text/plain": [
       "True"
      ]
     },
     "execution_count": 47,
     "metadata": {},
     "output_type": "execute_result"
    }
   ],
   "source": [
    "wordBreak(wordList,'leetcode')"
   ]
  },
  {
   "cell_type": "code",
   "execution_count": 46,
   "id": "1708fdfb-64ac-4d51-a1e1-62e086a8e363",
   "metadata": {},
   "outputs": [],
   "source": [
    "wordList='leetcode'"
   ]
  },
  {
   "cell_type": "code",
   "execution_count": null,
   "id": "5e4729cf-62d7-405a-80a8-ffa1cc3edb10",
   "metadata": {},
   "outputs": [],
   "source": []
  },
  {
   "cell_type": "code",
   "execution_count": null,
   "id": "5ee32906-1999-4748-8220-776895f4f568",
   "metadata": {},
   "outputs": [],
   "source": []
  }
 ],
 "metadata": {
  "kernelspec": {
   "display_name": "Python 3 (ipykernel)",
   "language": "python",
   "name": "python3"
  },
  "language_info": {
   "codemirror_mode": {
    "name": "ipython",
    "version": 3
   },
   "file_extension": ".py",
   "mimetype": "text/x-python",
   "name": "python",
   "nbconvert_exporter": "python",
   "pygments_lexer": "ipython3",
   "version": "3.10.8"
  }
 },
 "nbformat": 4,
 "nbformat_minor": 5
}
